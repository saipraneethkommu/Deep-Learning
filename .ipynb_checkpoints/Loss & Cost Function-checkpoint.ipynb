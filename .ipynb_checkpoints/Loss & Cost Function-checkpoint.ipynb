{
 "cells": [
  {
   "cell_type": "code",
   "execution_count": 24,
   "id": "03f45f3f-e089-4e8f-8716-0cf220fa9778",
   "metadata": {},
   "outputs": [],
   "source": [
    "import numpy as np\n",
    "import pandas as pd"
   ]
  },
  {
   "cell_type": "markdown",
   "id": "4486e7c0-aa90-493e-821e-bf3774e8daea",
   "metadata": {},
   "source": [
    "### Matrix Multiplication"
   ]
  },
  {
   "cell_type": "code",
   "execution_count": 25,
   "id": "c8ca8195-8014-4d5a-a577-0eb13242c5a0",
   "metadata": {},
   "outputs": [],
   "source": [
    "revenue = np.array([[180, 200, 220],[24, 36, 40],[12, 18, 20]])\n",
    "expenses = np.array([[80, 90, 100],[10, 16, 20],[8, 10, 10]])"
   ]
  },
  {
   "cell_type": "code",
   "execution_count": 26,
   "id": "ba659a5b-7adb-477a-83d8-a1ea01b5a6f0",
   "metadata": {},
   "outputs": [
    {
     "data": {
      "text/plain": [
       "array([[260, 290, 320],\n",
       "       [ 34,  52,  60],\n",
       "       [ 20,  28,  30]])"
      ]
     },
     "execution_count": 26,
     "metadata": {},
     "output_type": "execute_result"
    }
   ],
   "source": [
    "profit = revenue + expenses\n",
    "profit"
   ]
  },
  {
   "cell_type": "code",
   "execution_count": 27,
   "id": "df065211-0c45-4efd-a333-4f57e98c1b53",
   "metadata": {},
   "outputs": [],
   "source": [
    "units = np.array([[30, 40, 50], [5, 10, 15], [2, 5, 7]])\n",
    "price = np.array([1000, 400, 1200])"
   ]
  },
  {
   "cell_type": "code",
   "execution_count": 28,
   "id": "9d58df35-7167-4d2b-9af6-37e1d258a257",
   "metadata": {},
   "outputs": [
    {
     "data": {
      "text/plain": [
       "array([[30000, 16000, 60000],\n",
       "       [ 5000,  4000, 18000],\n",
       "       [ 2000,  2000,  8400]])"
      ]
     },
     "execution_count": 28,
     "metadata": {},
     "output_type": "execute_result"
    }
   ],
   "source": [
    "units*price"
   ]
  },
  {
   "cell_type": "code",
   "execution_count": 29,
   "id": "5e448077-39fb-489a-9e0d-96fae519a27a",
   "metadata": {},
   "outputs": [
    {
     "data": {
      "text/plain": [
       "array([34400, 50000, 64400])"
      ]
     },
     "execution_count": 29,
     "metadata": {},
     "output_type": "execute_result"
    }
   ],
   "source": [
    "np.dot(price, units)"
   ]
  },
  {
   "cell_type": "code",
   "execution_count": null,
   "id": "3f8b8ecd-6729-4e2e-a999-d79f0a97029f",
   "metadata": {},
   "outputs": [],
   "source": []
  },
  {
   "cell_type": "code",
   "execution_count": 33,
   "id": "7cad8da3-1179-4cca-ab62-88597cb699cd",
   "metadata": {},
   "outputs": [],
   "source": [
    "y_pred = np.array([1, 1, 0, 0, 1])\n",
    "y_true = np.array([0.3, 0.7, 1, 0, 0.5])"
   ]
  },
  {
   "cell_type": "code",
   "execution_count": 36,
   "id": "e36629e5-a5a0-4c5b-8374-a15a76504bee",
   "metadata": {},
   "outputs": [],
   "source": [
    "def mae(y_true, y_pred):\n",
    "    total_error = 0\n",
    "    for yt, yp in zip(y_true, y_pred):\n",
    "        total_error += abs(yt - yp)\n",
    "    print(f'Total Error: {total_error}')\n",
    "\n",
    "    mae = total_error/len(y_true)\n",
    "    print(f'MAE: {mae}')\n",
    "    return mae"
   ]
  },
  {
   "cell_type": "code",
   "execution_count": 37,
   "id": "3e949d86-1007-4ba5-ba91-2d39224f62a8",
   "metadata": {},
   "outputs": [
    {
     "name": "stdout",
     "output_type": "stream",
     "text": [
      "Total Error: 2.5\n",
      "MAE: 0.5\n"
     ]
    },
    {
     "data": {
      "text/plain": [
       "np.float64(0.5)"
      ]
     },
     "execution_count": 37,
     "metadata": {},
     "output_type": "execute_result"
    }
   ],
   "source": [
    "mae(y_true, y_pred)"
   ]
  },
  {
   "cell_type": "code",
   "execution_count": 38,
   "id": "899e724b-a3b1-4744-b13b-088796b4b887",
   "metadata": {},
   "outputs": [
    {
     "data": {
      "text/plain": [
       "np.float64(0.5)"
      ]
     },
     "execution_count": 38,
     "metadata": {},
     "output_type": "execute_result"
    }
   ],
   "source": [
    "np.mean(np.abs(y_pred-y_true)) #mae"
   ]
  },
  {
   "cell_type": "code",
   "execution_count": 39,
   "id": "4263dcbf-c320-43da-9f19-0bea8fa0d536",
   "metadata": {},
   "outputs": [
    {
     "data": {
      "text/plain": [
       "np.float64(2.5)"
      ]
     },
     "execution_count": 39,
     "metadata": {},
     "output_type": "execute_result"
    }
   ],
   "source": [
    "np.sum(np.abs(y_pred-y_true)) # total error"
   ]
  },
  {
   "cell_type": "code",
   "execution_count": null,
   "id": "6342a167-c63c-4c14-aa50-b5dd14faf4f9",
   "metadata": {},
   "outputs": [],
   "source": []
  },
  {
   "cell_type": "code",
   "execution_count": 43,
   "id": "c2ac5345-12a6-440a-a147-5b8b3d9974d0",
   "metadata": {},
   "outputs": [
    {
     "name": "stdout",
     "output_type": "stream",
     "text": [
      "-inf\n",
      "0.0\n"
     ]
    },
    {
     "name": "stderr",
     "output_type": "stream",
     "text": [
      "/var/folders/rf/kz592dbs6ng9snm5yj9tnhw80000gn/T/ipykernel_50371/3552641300.py:1: RuntimeWarning: divide by zero encountered in log\n",
      "  print(np.log(0))\n"
     ]
    }
   ],
   "source": [
    "print(np.log(0))\n",
    "print(np.log(1))"
   ]
  },
  {
   "cell_type": "code",
   "execution_count": 54,
   "id": "f8770861-7275-407d-ae83-45d7b7e21372",
   "metadata": {},
   "outputs": [
    {
     "name": "stderr",
     "output_type": "stream",
     "text": [
      "/var/folders/rf/kz592dbs6ng9snm5yj9tnhw80000gn/T/ipykernel_50371/4184140517.py:1: RuntimeWarning: divide by zero encountered in log\n",
      "  np.log(y_pred)\n"
     ]
    },
    {
     "data": {
      "text/plain": [
       "array([  0.,   0., -inf, -inf,   0.])"
      ]
     },
     "execution_count": 54,
     "metadata": {},
     "output_type": "execute_result"
    }
   ],
   "source": [
    "np.log(y_pred)"
   ]
  },
  {
   "cell_type": "code",
   "execution_count": null,
   "id": "daeca090-12ea-43ce-a619-595312d0381c",
   "metadata": {},
   "outputs": [],
   "source": []
  },
  {
   "cell_type": "code",
   "execution_count": 40,
   "id": "74878187-4331-4972-98f3-971a00936910",
   "metadata": {},
   "outputs": [],
   "source": [
    "eplison = 1e-15"
   ]
  },
  {
   "cell_type": "code",
   "execution_count": 41,
   "id": "eab70be4-8c6d-45f5-bb7e-ecdb69d62583",
   "metadata": {},
   "outputs": [
    {
     "data": {
      "text/plain": [
       "array([1, 1, 0, 0, 1])"
      ]
     },
     "execution_count": 41,
     "metadata": {},
     "output_type": "execute_result"
    }
   ],
   "source": [
    "y_pred"
   ]
  },
  {
   "cell_type": "code",
   "execution_count": 52,
   "id": "62653bb5-a41d-4294-a151-674fc6f15152",
   "metadata": {},
   "outputs": [
    {
     "data": {
      "text/plain": [
       "[np.int64(1), np.int64(1), 1e-15, 1e-15, np.int64(1)]"
      ]
     },
     "execution_count": 52,
     "metadata": {},
     "output_type": "execute_result"
    }
   ],
   "source": [
    "# We change values 1 and 0 to nearest values\n",
    "\n",
    "y_pred_new = [max(i, eplison) for i in y_pred]\n",
    "y_pred_new"
   ]
  },
  {
   "cell_type": "code",
   "execution_count": 53,
   "id": "c17b6e3a-14eb-4983-a340-3093fd1b27af",
   "metadata": {},
   "outputs": [
    {
     "data": {
      "text/plain": [
       "[0.999999999999999, 0.999999999999999, 1e-15, 1e-15, 0.999999999999999]"
      ]
     },
     "execution_count": 53,
     "metadata": {},
     "output_type": "execute_result"
    }
   ],
   "source": [
    "y_pred_new = [min(i, 1 - eplison) for i in y_pred_new]\n",
    "y_pred_new"
   ]
  },
  {
   "cell_type": "code",
   "execution_count": 58,
   "id": "f949599f-a82b-4060-8385-cebbcb682faa",
   "metadata": {},
   "outputs": [
    {
     "data": {
      "text/plain": [
       "array([-9.99200722e-16, -9.99200722e-16, -3.45387764e+01, -3.45387764e+01,\n",
       "       -9.99200722e-16])"
      ]
     },
     "execution_count": 58,
     "metadata": {},
     "output_type": "execute_result"
    }
   ],
   "source": [
    "y_pred_new = np.array(y_pred_new)\n",
    "np.log(y_pred_new)"
   ]
  },
  {
   "cell_type": "code",
   "execution_count": 59,
   "id": "a9f3d26d-b550-4fd3-9d73-c7878ba476ee",
   "metadata": {},
   "outputs": [
    {
     "data": {
      "text/plain": [
       "np.float64(17.2696280766844)"
      ]
     },
     "execution_count": 59,
     "metadata": {},
     "output_type": "execute_result"
    }
   ],
   "source": [
    "-np.mean(y_true * np.log(y_pred_new) + (1 - y_true) * np.log(1 - y_pred_new))"
   ]
  },
  {
   "cell_type": "code",
   "execution_count": null,
   "id": "2852ca96-8551-4dbb-8dbc-9b1ced625e4b",
   "metadata": {},
   "outputs": [],
   "source": []
  },
  {
   "cell_type": "code",
   "execution_count": 61,
   "id": "1d31c2e1-908e-4297-bbb3-5ee2e0344e03",
   "metadata": {},
   "outputs": [
    {
     "name": "stdout",
     "output_type": "stream",
     "text": [
      "17.2696280766844\n"
     ]
    }
   ],
   "source": [
    "def log_loss(y_true, y_pred):\n",
    "    y_pred_new = [max(i, eplison) for i in y_pred]\n",
    "    y_pred_new = [min(i, 1 - eplison) for i in y_pred_new]\n",
    "    y_pred_new = np.array(y_pred_new)\n",
    "    return -np.mean(y_true * np.log(y_pred_new) + (1 - y_true) * np.log(1 - y_pred_new))\n",
    "\n",
    "print(log_loss(y_true, y_pred))"
   ]
  },
  {
   "cell_type": "code",
   "execution_count": null,
   "id": "082ea5aa-7e96-43ac-938a-7622d3e293c5",
   "metadata": {},
   "outputs": [],
   "source": []
  }
 ],
 "metadata": {
  "kernelspec": {
   "display_name": "Python 3 (ipykernel)",
   "language": "python",
   "name": "python3"
  },
  "language_info": {
   "codemirror_mode": {
    "name": "ipython",
    "version": 3
   },
   "file_extension": ".py",
   "mimetype": "text/x-python",
   "name": "python",
   "nbconvert_exporter": "python",
   "pygments_lexer": "ipython3",
   "version": "3.12.0"
  }
 },
 "nbformat": 4,
 "nbformat_minor": 5
}
